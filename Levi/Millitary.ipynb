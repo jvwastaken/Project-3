{
 "cells": [
  {
   "cell_type": "code",
   "execution_count": null,
   "metadata": {},
   "outputs": [],
   "source": []
  },
  {
   "cell_type": "code",
   "execution_count": null,
   "metadata": {},
   "outputs": [],
   "source": [
    "# import dependenciesdey as np\n",
    "import pandas as pd\n",
    "import sqlite3"
   ]
  },
  {
   "cell_type": "code",
   "execution_count": null,
   "metadata": {},
   "outputs": [],
   "source": [
    "# store file paths and names\n",
    "hospitals = \"../Vivian/Resources/cleaned_hospitals.csv\"\n",
    "covid_cases = \"../Stephen/johns_hopkins_data_merge/main_covid_cases_2020-2023_merge.csv\"\n",
    "us_population = \"../Sean/Resources/US_population.csv\"\n",
    "gun_sales = \"../Sean/Resources/US_gun_sales_data.csv\"\n",
    "military_bases = \"./military-bases.csv\"\n"
   ]
  },
  {
   "cell_type": "code",
   "execution_count": null,
   "metadata": {},
   "outputs": [],
   "source": [
    "# connect to database\n",
    "con = sqlite3.connect('data2.sqlite')"
   ]
  },
  {
   "cell_type": "code",
   "execution_count": null,
   "metadata": {},
   "outputs": [],
   "source": [
    "# hospitals\n",
    "\n",
    "hospitals_df = pd.read_csv(hospitals)\n",
    "\n",
    "hospitals_df.to_sql('us_population', con, if_exists='replace', index=False)"
   ]
  },
  {
   "cell_type": "code",
   "execution_count": null,
   "metadata": {},
   "outputs": [],
   "source": [
    "# covid cases\n",
    "covid_cases_df = pd.read_csv(covid_cases)\n",
    "\n",
    "covid_cases_df.to_sql('covid_cases', con, if_exists='replace', index=False)"
   ]
  },
  {
   "cell_type": "code",
   "execution_count": null,
   "metadata": {},
   "outputs": [],
   "source": [
    "# covid world data\n",
    "covid_world_data_df = pd.read_csv(covid_world_data)\n",
    "\n",
    "covid_world_data_df.to_sql('covid_world_data', con, if_exists='replace', index=False)"
   ]
  },
  {
   "cell_type": "code",
   "execution_count": null,
   "metadata": {},
   "outputs": [],
   "source": [
    "# us population\n",
    "us_population_df = pd.read_csv(us_population)\n",
    "us_population_df.dropna(how='all', axis=1, inplace=True)\n",
    "\n",
    "us_population_df.to_sql('us_population', con, if_exists='replace', index=False)"
   ]
  },
  {
   "cell_type": "code",
   "execution_count": null,
   "metadata": {},
   "outputs": [],
   "source": [
    "# gun sales\n",
    "gun_sales_df = pd.read_csv(gun_sales)\n",
    " \n",
    "gun_sales_df.to_sql('gun_sales', con, if_exists='replace', index=False)"
   ]
  },
  {
   "cell_type": "code",
   "execution_count": null,
   "metadata": {},
   "outputs": [],
   "source": [
    "# military bases\n",
    "military_bases_df = pd.read_csv(\"military-bases.csv\", sep=';')\n",
    "\n",
    "military_bases_df.drop('Geo Shape', axis=1)\n",
    "military_bases_df.to_sql('military_bases', con, if_exists='replace', index=False)"
   ]
  },
  {
   "cell_type": "code",
   "execution_count": null,
   "metadata": {},
   "outputs": [],
   "source": [
    "# commit to database and close connection\n",
    "con.commit()\n",
    "con.close()"
   ]
  }
 ],
 "metadata": {
  "kernelspec": {
   "display_name": "base",
   "language": "python",
   "name": "python3"
  },
  "language_info": {
   "codemirror_mode": {
    "name": "ipython",
    "version": 3
   },
   "file_extension": ".py",
   "mimetype": "text/x-python",
   "name": "python",
   "nbconvert_exporter": "python",
   "pygments_lexer": "ipython3",
   "version": "3.11.7"
  }
 },
 "nbformat": 4,
 "nbformat_minor": 2
}
