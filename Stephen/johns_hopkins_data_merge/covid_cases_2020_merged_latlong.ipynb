{
 "cells": [
  {
   "cell_type": "code",
   "execution_count": null,
   "metadata": {},
   "outputs": [],
   "source": [
    "import os\n",
    "import pandas as pd\n",
    "\n",
    "# Directory containing the CSV files\n",
    "data_dir = '../johns_hopkins_github_data_pull/covid_reports_2020'\n",
    "\n",
    "# List all CSV files in the directory\n",
    "csv_files = [f for f in os.listdir(data_dir) if f.endswith('.csv')]\n",
    "\n",
    "# Initialize an empty list to hold individual DataFrames\n",
    "dataframes = []\n",
    "\n",
    "# Load each CSV file into a DataFrame\n",
    "for file in csv_files:\n",
    "    file_path = os.path.join(data_dir, file)\n",
    "    df = pd.read_csv(file_path)\n",
    "    # Extract the date from the filename and create a new column for it\n",
    "    date = file.split('.')[0]  # Assumes filename is of the form 'MM-DD-YYYY.csv'\n",
    "    df['Date'] = pd.to_datetime(date, format='%m-%d-%Y')\n",
    "    # Append the DataFrame to the list\n",
    "    dataframes.append(df)\n",
    "\n",
    "# Concatenate all DataFrames into a single DataFrame\n",
    "combined_df = pd.concat(dataframes, ignore_index=True)\n",
    "\n",
    "# Filter for 'US' country and select necessary columns\n",
    "us_data = combined_df[combined_df['Country_Region'] == 'US']\n",
    "\n",
    "# Pivot the DataFrame to get 'Confirmed' cases as columns\n",
    "pivot_df = us_data.pivot_table(index=['Province_State', 'Lat', 'Long'], columns='Date', values='Confirmed', aggfunc='sum')\n",
    "\n",
    "# Flatten the columns and rename them to include the date in the format 'Confirmed MM-DD-YYYY'\n",
    "pivot_df.columns = [f'Confirmed {date.strftime(\"%m-%d-%Y\")}' for date in pivot_df.columns]\n",
    "\n",
    "# Reset index to include 'Province_State', 'Lat', and 'Long' as columns\n",
    "final_df = pivot_df.reset_index()\n",
    "\n",
    "# Display the final DataFrame\n",
    "print(final_df)\n",
    "\n",
    "# Save the final DataFrame to a CSV file\n",
    "final_df.to_csv('consolidated_covid_data_us_with_lat_long.csv', index=False)\n"
   ]
  }
 ],
 "metadata": {
  "language_info": {
   "name": "python"
  }
 },
 "nbformat": 4,
 "nbformat_minor": 2
}
