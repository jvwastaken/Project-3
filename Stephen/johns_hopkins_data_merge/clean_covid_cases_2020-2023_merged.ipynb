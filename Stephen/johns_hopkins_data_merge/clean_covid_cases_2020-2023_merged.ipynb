{
 "cells": [
  {
   "cell_type": "code",
   "execution_count": 6,
   "metadata": {},
   "outputs": [
    {
     "name": "stdout",
     "output_type": "stream",
     "text": [
      "CSV file 'main_covid_cases_2020-2023_merge.csv' has been overwritten with cleaned data.\n"
     ]
    }
   ],
   "source": [
    "import pandas as pd\n",
    "\n",
    "# Load the CSV file into a DataFrame\n",
    "file_path = 'main_covid_cases_2020-2023_merge.csv'  \n",
    "df = pd.read_csv(file_path)\n",
    "\n",
    "# Identify and clean date columns\n",
    "new_columns = []\n",
    "for col in df.columns:\n",
    "    if col.startswith('Confirmed '):\n",
    "        date_str = col.replace('Confirmed ', '')\n",
    "        try:\n",
    "            date = pd.to_datetime(date_str, format='%m-%d-%Y').strftime('%Y-%m-%d')\n",
    "            new_columns.append(date)\n",
    "        except ValueError:\n",
    "            new_columns.append(col)\n",
    "    else:\n",
    "        new_columns.append(col)\n",
    "\n",
    "df.columns = new_columns\n",
    "\n",
    "# Overwrite the existing CSV file with the cleaned DataFrame\n",
    "df.to_csv(file_path, index=False)\n",
    "\n",
    "# Display a message to confirm the file has been overwritten\n",
    "print(f\"CSV file '{file_path}' has been overwritten with cleaned data.\")\n"
   ]
  },
  {
   "cell_type": "code",
   "execution_count": 8,
   "metadata": {},
   "outputs": [
    {
     "name": "stdout",
     "output_type": "stream",
     "text": [
      "CSV file 'main_covid_cases_2020-2023_merge.csv' has been updated with the new column name.\n"
     ]
    }
   ],
   "source": [
    "# Update column name from \"Province_State\" to \"State\"\n",
    "df.rename(columns={\"Province_State\": \"State\"}, inplace=True)\n",
    "\n",
    "# Overwrite the existing CSV file with the updated DataFrame\n",
    "df.to_csv(file_path, index=False)\n",
    "\n",
    "# Display a message to confirm the file has been updated\n",
    "print(f\"CSV file '{file_path}' has been updated with the new column name.\")"
   ]
  },
  {
   "cell_type": "code",
   "execution_count": 9,
   "metadata": {},
   "outputs": [
    {
     "name": "stdout",
     "output_type": "stream",
     "text": [
      "CSV file 'main_covid_cases_2020-2023_merge.csv' has been updated with the .0 removed from data.\n"
     ]
    }
   ],
   "source": [
    "# Remove the .0 from specific data columns\n",
    "for col in df.columns:\n",
    "    if df[col].dtype == 'float64':\n",
    "        df[col] = df[col].apply(lambda x: int(x) if pd.notnull(x) and x.is_integer() else x)\n",
    "\n",
    "# Overwrite the existing CSV file with the updated DataFrame\n",
    "df.to_csv(file_path, index=False)\n",
    "\n",
    "# Display a message to confirm the file has been updated\n",
    "print(f\"CSV file '{file_path}' has been updated with the .0 removed from data.\")\n",
    "\n"
   ]
  }
 ],
 "metadata": {
  "kernelspec": {
   "display_name": "base",
   "language": "python",
   "name": "python3"
  },
  "language_info": {
   "codemirror_mode": {
    "name": "ipython",
    "version": 3
   },
   "file_extension": ".py",
   "mimetype": "text/x-python",
   "name": "python",
   "nbconvert_exporter": "python",
   "pygments_lexer": "ipython3",
   "version": "3.11.7"
  }
 },
 "nbformat": 4,
 "nbformat_minor": 2
}
