{
 "cells": [
  {
   "cell_type": "code",
   "execution_count": 2,
   "metadata": {},
   "outputs": [
    {
     "name": "stdout",
     "output_type": "stream",
     "text": [
      "  Province_State      Lat     Long_  2020-04-01  2020-05-01  2020-06-01  \\\n",
      "0        Alabama  32.3182  -86.9023      1171.0      7440.0     18525.0   \n",
      "1         Alaska  61.3707 -152.4044       132.0       364.0       469.0   \n",
      "2        Arizona  33.7298 -111.4312      1530.0      7969.0     20129.0   \n",
      "3       Arkansas  34.9697  -92.3731       584.0      3337.0      7443.0   \n",
      "4     California  36.1162 -119.6816      9262.0     52542.0    116302.0   \n",
      "\n",
      "   2020-07-01  2020-08-01  2020-09-01  2020-10-01  ...  2022-06-01  \\\n",
      "0     39647.0     90299.0    127234.0    155727.0  ...     1315934   \n",
      "1       993.0      3184.0      5344.0      7996.0  ...      262071   \n",
      "2     84105.0    177002.0    202342.0    219212.0  ...     2062669   \n",
      "3     21197.0     43173.0     61497.0     84821.0  ...      843828   \n",
      "4    248148.0    515543.0    717892.0    824977.0  ...     9626398   \n",
      "\n",
      "   2022-07-01  2022-08-01  2022-09-01  2022-10-01  2022-11-01  2022-12-01  \\\n",
      "0     1359051     1424411     1494300     1522135     1534287     1549285   \n",
      "1      272415      283643      294498      298178      300177      299869   \n",
      "2     2125567     2196429     2254374     2271560     2287886     2337547   \n",
      "3      866816      904513      933962      951892      960225      969642   \n",
      "4    10156455    10754482    11116629    11269880    11385091    11551397   \n",
      "\n",
      "   2023-01-01  2023-02-01  2023-03-01  \n",
      "0     1568934     1617850     1642062  \n",
      "1      301432      304368      307073  \n",
      "2     2378334     2401287     2440294  \n",
      "3      985747      996887     1004752  \n",
      "4    11835450    12003780    12097613  \n",
      "\n",
      "[5 rows x 39 columns]\n"
     ]
    }
   ],
   "source": [
    "import pandas as pd\n",
    "\n",
    "# Load the CSV file into a DataFrame\n",
    "file_path = 'main_covid_cases_2020-2023_merge.csv'  \n",
    "df = pd.read_csv(file_path)\n",
    "\n",
    "# Identify and clean date columns\n",
    "new_columns = []\n",
    "for col in df.columns:\n",
    "    if col.startswith('Confirmed '):\n",
    "        date_str = col.replace('Confirmed ', '')\n",
    "        try:\n",
    "            date = pd.to_datetime(date_str, format='%m-%d-%Y').strftime('%Y-%m-%d')\n",
    "            new_columns.append(date)\n",
    "        except ValueError:\n",
    "            new_columns.append(col)\n",
    "    else:\n",
    "        new_columns.append(col)\n",
    "\n",
    "df.columns = new_columns\n",
    "\n",
    "# Overwrite the existing CSV file with the cleaned DataFrame\n",
    "df.to_csv(file_path, index=False)\n",
    "\n",
    "# Display a message to confirm the file has been overwritten\n",
    "print(f\"CSV file '{file_path}' has been overwritten with cleaned data.\")\n"
   ]
  }
 ],
 "metadata": {
  "kernelspec": {
   "display_name": "base",
   "language": "python",
   "name": "python3"
  },
  "language_info": {
   "codemirror_mode": {
    "name": "ipython",
    "version": 3
   },
   "file_extension": ".py",
   "mimetype": "text/x-python",
   "name": "python",
   "nbconvert_exporter": "python",
   "pygments_lexer": "ipython3",
   "version": "3.11.7"
  }
 },
 "nbformat": 4,
 "nbformat_minor": 2
}
