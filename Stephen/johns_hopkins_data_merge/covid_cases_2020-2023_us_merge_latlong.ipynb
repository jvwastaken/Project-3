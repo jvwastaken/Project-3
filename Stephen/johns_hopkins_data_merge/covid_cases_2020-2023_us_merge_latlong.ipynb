{
 "cells": [
  {
   "cell_type": "code",
   "execution_count": 14,
   "metadata": {},
   "outputs": [
    {
     "name": "stdout",
     "output_type": "stream",
     "text": [
      "Current working directory: /Users/stephenloucel/Desktop/DataClass/Classwork/Project-3/Stephen/johns_hopkins_data_merge\n",
      "Merged data saved to: merged_covid_data_2.csv\n"
     ]
    }
   ],
   "source": [
    "import pandas as pd\n",
    "import os\n",
    "\n",
    "# Define the file paths using relative paths\n",
    "us_data_path = 'consolidated_covid_data_us_with_lat_long_.csv'\n",
    "world_data_path = 'consolidated_covid_data_world2us.csv'\n",
    "output_path = 'merged_covid_data_2.csv'\n",
    "\n",
    "# Print the current working directory\n",
    "print(\"Current working directory:\", os.getcwd())\n",
    "\n",
    "# Check if the files exist\n",
    "if not os.path.exists(us_data_path):\n",
    "    print(f\"File not found: {us_data_path}\")\n",
    "elif not os.path.exists(world_data_path):\n",
    "    print(f\"File not found: {world_data_path}\")\n",
    "else:\n",
    "    # Load the data\n",
    "    us_data = pd.read_csv(us_data_path)\n",
    "    world_data = pd.read_csv(world_data_path)\n",
    "\n",
    "    # Merge the data on 'Province_State'\n",
    "    merged_data = pd.merge(us_data, world_data, on='Province_State', how='left')\n",
    "\n",
    "   # Remove specific rows based on 'Province_State' column\n",
    "    exclude_states = ['American Samoa', 'Northern Mariana Islands', 'Puerto Rico', 'Guam']\n",
    "    merged_data = merged_data[~merged_data['Province_State'].isin(exclude_states)]\n",
    "\n",
    "    # Find the confirmed columns from both files\n",
    "    confirmed_columns_us = [col for col in us_data.columns if col.startswith('Confirmed')]\n",
    "    confirmed_columns_world = [col for col in world_data.columns if col.startswith('Confirmed')]\n",
    "\n",
    "    # Combine the 'Confirmed' columns, avoiding duplicates\n",
    "    combined_confirmed_columns = sorted(set(confirmed_columns_world + confirmed_columns_us), key=lambda x: pd.to_datetime(x.split(' ')[1], format='%m-%d-%Y'))\n",
    "\n",
    "    # Keep required columns and add the combined 'Confirmed' columns\n",
    "    result = merged_data[['Province_State', 'Lat', 'Long_'] + combined_confirmed_columns]\n",
    "\n",
    "    # Save the result to a new CSV file\n",
    "    result.to_csv(output_path, index=False)\n",
    "    print(f\"Merged data saved to: {output_path}\")\n"
   ]
  }
 ],
 "metadata": {
  "kernelspec": {
   "display_name": "base",
   "language": "python",
   "name": "python3"
  },
  "language_info": {
   "codemirror_mode": {
    "name": "ipython",
    "version": 3
   },
   "file_extension": ".py",
   "mimetype": "text/x-python",
   "name": "python",
   "nbconvert_exporter": "python",
   "pygments_lexer": "ipython3",
   "version": "3.11.7"
  }
 },
 "nbformat": 4,
 "nbformat_minor": 2
}
