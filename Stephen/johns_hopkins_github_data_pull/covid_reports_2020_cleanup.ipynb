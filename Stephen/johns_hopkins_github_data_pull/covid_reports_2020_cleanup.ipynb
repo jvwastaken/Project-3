{
 "cells": [
  {
   "cell_type": "code",
   "execution_count": 3,
   "metadata": {},
   "outputs": [
    {
     "name": "stdout",
     "output_type": "stream",
     "text": [
      "Processed and saved file: moidifed_file1.csv\n",
      "Processed and saved file: moidifed_file2.csv\n",
      "All files have been processesd and saved.\n"
     ]
    }
   ],
   "source": [
    "import pandas as pd\n",
    "import os\n",
    "\n",
    "# Function\n",
    "def rename_columns_and_save(input_file, out_putfile):\n",
    "    df = pd.read_csv(input_file)\n",
    "\n",
    "    df.rename(columns={\n",
    "        'Province/State': 'Province_State',\n",
    "        'Country/Region': 'Country_Region'\n",
    "    }, inplace=True)\n",
    "\n",
    "    df.to_csv(output_file, index=False)\n",
    "    print (f'Processed and saved file: {output_file}')\n",
    "\n",
    "# List of files\n",
    "folder_path = 'covid_reports_2020'\n",
    "files_to_process = [os.path.join(folder_path, '02-01-2020.csv'), os.path.join(folder_path, '03-01-2020.csv')]\n",
    "\n",
    "\n",
    "# Loop\n",
    "for i, file in enumerate(files_to_process, 1):\n",
    "    output_file = f'moidifed_file{i}.csv'\n",
    "    rename_columns_and_save(file, output_file)\n",
    "\n",
    "print(\"All files have been processesd and saved.\")"
   ]
  }
 ],
 "metadata": {
  "kernelspec": {
   "display_name": "base",
   "language": "python",
   "name": "python3"
  },
  "language_info": {
   "codemirror_mode": {
    "name": "ipython",
    "version": 3
   },
   "file_extension": ".py",
   "mimetype": "text/x-python",
   "name": "python",
   "nbconvert_exporter": "python",
   "pygments_lexer": "ipython3",
   "version": "3.11.7"
  }
 },
 "nbformat": 4,
 "nbformat_minor": 2
}
