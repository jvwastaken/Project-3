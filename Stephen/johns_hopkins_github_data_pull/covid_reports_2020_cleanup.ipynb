{
 "cells": [
  {
   "cell_type": "code",
   "execution_count": 2,
   "metadata": {},
   "outputs": [
    {
     "name": "stdout",
     "output_type": "stream",
     "text": [
      "Current working directory: /Users/stephenloucel/Desktop/DataClass/Classwork/Project-3/Stephen/johns_hopkins_github_data_pull\n",
      "Contents of 'covid_reports_2020' before processing: ['10-01-2020.csv', '05-01-2020.csv', '09-01-2020.csv', '03-01-2020.csv', '06-01-2020.csv', 'modified_file1.csv', 'modified_file2.csv', '08-01-2020.csv', '04-01-2020.csv', '11-01-2020.csv', '12-01-2020.csv', '07-01-2020.csv', '02-01-2020.csv']\n",
      "Processing file: covid_reports_2020/02-01-2020.csv\n",
      "Output file will be: covid_reports_2020/modified_file1.csv\n",
      "Reading file: covid_reports_2020/02-01-2020.csv\n",
      "Original columns: ['Province/State', 'Country/Region', 'Last Update', 'Confirmed', 'Deaths', 'Recovered']\n",
      "Renamed columns: ['Province_State', 'Country_Region', 'Last Update', 'Confirmed', 'Deaths', 'Recovered']\n",
      "Processed and saved file: covid_reports_2020/modified_file1.csv\n",
      "Processing file: covid_reports_2020/03-01-2020.csv\n",
      "Output file will be: covid_reports_2020/modified_file2.csv\n",
      "Reading file: covid_reports_2020/03-01-2020.csv\n",
      "Original columns: ['Province/State', 'Country/Region', 'Last Update', 'Confirmed', 'Deaths', 'Recovered', 'Latitude', 'Longitude']\n",
      "Renamed columns: ['Province_State', 'Country_Region', 'Last Update', 'Confirmed', 'Deaths', 'Recovered', 'Latitude', 'Longitude']\n",
      "Processed and saved file: covid_reports_2020/modified_file2.csv\n",
      "Contents of 'covid_reports_2020' after processing: ['10-01-2020.csv', '05-01-2020.csv', '09-01-2020.csv', '03-01-2020.csv', '06-01-2020.csv', 'modified_file1.csv', 'modified_file2.csv', '08-01-2020.csv', '04-01-2020.csv', '11-01-2020.csv', '12-01-2020.csv', '07-01-2020.csv', '02-01-2020.csv']\n",
      "All files have been processed and saved.\n"
     ]
    }
   ],
   "source": [
    "import pandas as pd\n",
    "import os\n",
    "\n",
    "# Function to rename columns and save the modified CSV file\n",
    "def rename_columns_and_save(input_file, output_file):\n",
    "    print(f\"Reading file: {input_file}\")\n",
    "    df = pd.read_csv(input_file)\n",
    "    print(f\"Original columns: {df.columns.tolist()}\")\n",
    "\n",
    "    # Rename the columns\n",
    "    df.rename(columns={\n",
    "        'Province/State': 'Province_State',\n",
    "        'Country/Region': 'Country_Region'\n",
    "    }, inplace=True)\n",
    "    \n",
    "    print(f\"Renamed columns: {df.columns.tolist()}\")\n",
    "\n",
    "    # Save the modified CSV file\n",
    "    df.to_csv(output_file, index=False)\n",
    "    print(f\"Processed and saved file: {output_file}\")\n",
    "\n",
    "# Print the current working directory\n",
    "print(f\"Current working directory: {os.getcwd()}\")\n",
    "\n",
    "# Print the contents of the folder before processing\n",
    "print(f\"Contents of '{folder_path}' before processing: {os.listdir(folder_path)}\")\n",
    "\n",
    "# List of files\n",
    "folder_path = 'covid_reports_2020'\n",
    "files_to_process = [os.path.join(folder_path, '02-01-2020.csv'), os.path.join(folder_path, '03-01-2020.csv')]\n",
    "\n",
    "# Loop\n",
    "for i, file in enumerate(files_to_process, 1):\n",
    "    output_file = os.path.join(folder_path, f'modified_file{i}.csv')\n",
    "    print(f\"Processing file: {file}\")\n",
    "    print(f\"Output file will be: {output_file}\")\n",
    "    rename_columns_and_save(file, output_file)\n",
    "\n",
    "# Print the contents of the folder after processing\n",
    "print(f\"Contents of '{folder_path}' after processing: {os.listdir(folder_path)}\")\n",
    "\n",
    "print(\"All files have been processed and saved.\")\n"
   ]
  }
 ],
 "metadata": {
  "kernelspec": {
   "display_name": "base",
   "language": "python",
   "name": "python3"
  },
  "language_info": {
   "codemirror_mode": {
    "name": "ipython",
    "version": 3
   },
   "file_extension": ".py",
   "mimetype": "text/x-python",
   "name": "python",
   "nbconvert_exporter": "python",
   "pygments_lexer": "ipython3",
   "version": "3.11.7"
  }
 },
 "nbformat": 4,
 "nbformat_minor": 2
}
