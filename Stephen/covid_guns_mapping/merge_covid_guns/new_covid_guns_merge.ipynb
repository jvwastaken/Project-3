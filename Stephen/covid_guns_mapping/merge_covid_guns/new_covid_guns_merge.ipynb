{
 "cells": [
  {
   "cell_type": "code",
   "execution_count": 1,
   "metadata": {},
   "outputs": [],
   "source": [
    "import pandas as pd\n",
    "\n",
    "# Load the first CSV file\n",
    "csv1_path = 'US_gun_sales_capita_data.csv'\n",
    "df1 = pd.read_csv(csv1_path)\n",
    "\n",
    "# Load the second CSV file\n",
    "csv2_path = 'main_covid_cases_2020-2023_merge.csv'\n",
    "df2 = pd.read_csv(csv2_path)\n",
    "\n",
    "\n"
   ]
  },
  {
   "cell_type": "code",
   "execution_count": 2,
   "metadata": {},
   "outputs": [],
   "source": [
    "# Merge the two DataFrames on the \"State\" column\n",
    "merged_df = pd.merge(df1, df2, left_on='Province_State', right_on='State')\n",
    "\n",
    "# Select the columns you want to keep in the merged DataFrame\n",
    "# Assuming you want to keep all columns from df1 and add the 'Lat' and 'Long_' from df2\n",
    "columns_to_keep = list(df1.columns) + ['Lat', 'Long_']\n",
    "merged_df = merged_df[columns_to_keep]\n",
    "\n"
   ]
  },
  {
   "cell_type": "code",
   "execution_count": 3,
   "metadata": {},
   "outputs": [
    {
     "name": "stdout",
     "output_type": "stream",
     "text": [
      "Merged CSV file saved successfully.\n"
     ]
    }
   ],
   "source": [
    "# Save the merged DataFrame to a new CSV file\n",
    "output_csv_path = 'covid_guns_merged.csv'\n",
    "merged_df.to_csv(output_csv_path, index=False)\n",
    "\n",
    "print(\"Merged CSV file saved successfully.\")"
   ]
  },
  {
   "cell_type": "code",
   "execution_count": 4,
   "metadata": {},
   "outputs": [
    {
     "name": "stdout",
     "output_type": "stream",
     "text": [
      "CSV file updated successfully.\n"
     ]
    }
   ],
   "source": [
    "import pandas as pd\n",
    "\n",
    "# Load the CSV file\n",
    "csv_path = 'covid_guns_merged.csv'\n",
    "df = pd.read_csv(csv_path)\n",
    "\n",
    "# Rename the column\n",
    "df.rename(columns={'Province_State': 'State'}, inplace=True)\n",
    "\n",
    "# Reorder the columns\n",
    "df = df[['State', 'Lat', 'Long_', '2023 Total Estimated Sales', 'Guns Per Capita']]\n",
    "\n",
    "# Save the modified DataFrame back to the same CSV file\n",
    "df.to_csv(csv_path, index=False)\n",
    "\n",
    "print(\"CSV file updated successfully.\")\n"
   ]
  }
 ],
 "metadata": {
  "kernelspec": {
   "display_name": "base",
   "language": "python",
   "name": "python3"
  },
  "language_info": {
   "codemirror_mode": {
    "name": "ipython",
    "version": 3
   },
   "file_extension": ".py",
   "mimetype": "text/x-python",
   "name": "python",
   "nbconvert_exporter": "python",
   "pygments_lexer": "ipython3",
   "version": "3.11.7"
  }
 },
 "nbformat": 4,
 "nbformat_minor": 2
}
