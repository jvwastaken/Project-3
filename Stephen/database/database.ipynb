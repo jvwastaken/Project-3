{
 "cells": [
  {
   "cell_type": "code",
   "execution_count": 1,
   "metadata": {},
   "outputs": [],
   "source": [
    "import sqlite3\n",
    "import pandas as pd\n",
    "\n",
    "# Connect to SQLite database (or create it if it doesn't exist)\n",
    "conn = sqlite3.connect('database.db')\n"
   ]
  },
  {
   "cell_type": "code",
   "execution_count": 2,
   "metadata": {},
   "outputs": [],
   "source": [
    "# Load CSV files into pandas DataFrames\n",
    "df1 = pd.read_csv('/Users/stephenloucel/Desktop/DataClass/Classwork/Project-3/Stephen/database/csv_clean_up_4_db/clean_covid_cases.csv')\n",
    "df2 = pd.read_csv('/Users/stephenloucel/Desktop/DataClass/Classwork/Project-3/Stephen/database/csv_clean_up_4_db/clean_guns.csv')\n",
    "df3 = pd.read_csv('/Users/stephenloucel/Desktop/DataClass/Classwork/Project-3/Stephen/database/csv_clean_up_4_db/clean_us_population.csv')\n",
    "df4 = pd.read_csv('/Users/stephenloucel/Desktop/DataClass/Classwork/Project-3/Stephen/database/csv_clean_up_4_db/clean_military_bases.csv')\n",
    "df5 = pd.read_csv('/Users/stephenloucel/Desktop/DataClass/Classwork/Project-3/Stephen/database/csv_clean_up_4_db/clean_hospitals.csv')\n",
    "\n",
    "# Clean data\n",
    "def clean_data(df):\n",
    "    # Standardize column names\n",
    "    df.columns = [col.strip().lower().replace(' ', '_') for col in df.columns]\n",
    "    \n",
    "    # Handle missing values (example: filling with 0 or dropping)\n",
    "    df.fillna(0, inplace=True)\n",
    "    \n",
    "    # Convert data types if necessary (example: ensuring numeric columns are floats)\n",
    "    for col in df.select_dtypes(include=['int64', 'float64']).columns:\n",
    "        df[col] = df[col].astype(float)\n",
    "    \n",
    "    return df\n",
    "\n",
    "df1 = clean_data(df1)\n",
    "df2 = clean_data(df2)\n",
    "df3 = clean_data(df3)\n",
    "df4 = clean_data(df4)\n",
    "df5 = clean_data(df5)"
   ]
  },
  {
   "cell_type": "code",
   "execution_count": 3,
   "metadata": {},
   "outputs": [],
   "source": [
    "# Write the DataFrames to SQLite tables\n",
    "df1.to_sql('covid_rate', conn, if_exists='replace', index=False)\n",
    "df2.to_sql('gun_sales', conn, if_exists='replace', index=False)\n",
    "df3.to_sql('us_population', conn, if_exists='replace', index=False)\n",
    "df4.to_sql('military_bases', conn, if_exists='replace', index=False)\n",
    "df5.to_sql('hospitals', conn, if_exists='replace', index=False)\n",
    "\n",
    "# Close the connection\n",
    "conn.close()\n"
   ]
  }
 ],
 "metadata": {
  "kernelspec": {
   "display_name": "base",
   "language": "python",
   "name": "python3"
  },
  "language_info": {
   "codemirror_mode": {
    "name": "ipython",
    "version": 3
   },
   "file_extension": ".py",
   "mimetype": "text/x-python",
   "name": "python",
   "nbconvert_exporter": "python",
   "pygments_lexer": "ipython3",
   "version": "3.11.7"
  }
 },
 "nbformat": 4,
 "nbformat_minor": 2
}
