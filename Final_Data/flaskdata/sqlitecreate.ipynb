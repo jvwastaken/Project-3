{
 "cells": [
  {
   "cell_type": "code",
   "execution_count": null,
   "metadata": {},
   "outputs": [],
   "source": []
  },
  {
   "cell_type": "code",
   "execution_count": 22,
   "metadata": {},
   "outputs": [],
   "source": [
    "# import dependenciesdey as np\n",
    "import pandas as pd\n",
    "import sqlite3"
   ]
  },
  {
   "cell_type": "code",
   "execution_count": 23,
   "metadata": {},
   "outputs": [],
   "source": [
    "# store file paths and names\n",
    "hospitals = \"../../Vivian/Resources/cleaned_hospitals.csv\"\n",
    "covid_cases = \"../../Stephen/johns_hopkins_data_merge/main_covid_cases_2020-2023_merge.csv\"\n",
    "us_population = \"../../Sean/Resources/US_population.csv\"\n",
    "gun_sales = \"../../Sean/Resources/US_gun_sales_data.csv\"\n",
    "military_bases = \"../../Vivian/Resources/clean_military_bases.csv\"\n",
    "gun_geo = \"../../Stephen/covid_guns_mapping/merge_covid_guns/covid_guns_merged.csv\"\n"
   ]
  },
  {
   "cell_type": "code",
   "execution_count": 24,
   "metadata": {},
   "outputs": [],
   "source": [
    "# connect to database\n",
    "con = sqlite3.connect('project3.sqlite')"
   ]
  },
  {
   "cell_type": "code",
   "execution_count": 25,
   "metadata": {},
   "outputs": [
    {
     "data": {
      "text/plain": [
       "51"
      ]
     },
     "execution_count": 25,
     "metadata": {},
     "output_type": "execute_result"
    }
   ],
   "source": [
    "#gun geo\n",
    "gun_geo_df = pd.read_csv(gun_geo)\n",
    "\n",
    "gun_geo_df.to_sql('gun_geo', con, if_exists='replace', index=False)"
   ]
  },
  {
   "cell_type": "code",
   "execution_count": 26,
   "metadata": {},
   "outputs": [
    {
     "data": {
      "text/plain": [
       "6969"
      ]
     },
     "execution_count": 26,
     "metadata": {},
     "output_type": "execute_result"
    }
   ],
   "source": [
    "# hospitals\n",
    "hospitals_df = pd.read_csv(hospitals)\n",
    "\n",
    "hospitals_df.to_sql('hospitals', con, if_exists='replace', index=False)"
   ]
  },
  {
   "cell_type": "code",
   "execution_count": 27,
   "metadata": {},
   "outputs": [
    {
     "data": {
      "text/plain": [
       "52"
      ]
     },
     "execution_count": 27,
     "metadata": {},
     "output_type": "execute_result"
    }
   ],
   "source": [
    "# covid cases\n",
    "covid_cases_df = pd.read_csv(covid_cases)\n",
    "\n",
    "covid_cases_df.to_sql('covid_cases', con, if_exists='replace', index=False)"
   ]
  },
  {
   "cell_type": "code",
   "execution_count": 28,
   "metadata": {},
   "outputs": [
    {
     "data": {
      "text/plain": [
       "51"
      ]
     },
     "execution_count": 28,
     "metadata": {},
     "output_type": "execute_result"
    }
   ],
   "source": [
    "# us population\n",
    "us_population_df = pd.read_csv(us_population)\n",
    "us_population_df.dropna(how='all', axis=1, inplace=True)\n",
    "\n",
    "us_population_df.to_sql('us_population', con, if_exists='replace', index=False)"
   ]
  },
  {
   "cell_type": "code",
   "execution_count": 29,
   "metadata": {},
   "outputs": [
    {
     "data": {
      "text/plain": [
       "51"
      ]
     },
     "execution_count": 29,
     "metadata": {},
     "output_type": "execute_result"
    }
   ],
   "source": [
    "# gun sales\n",
    "gun_sales_df = pd.read_csv(gun_sales)\n",
    " \n",
    "gun_sales_df.to_sql('gun_sales', con, if_exists='replace', index=False)"
   ]
  },
  {
   "cell_type": "code",
   "execution_count": 30,
   "metadata": {},
   "outputs": [
    {
     "data": {
      "text/plain": [
       "721"
      ]
     },
     "execution_count": 30,
     "metadata": {},
     "output_type": "execute_result"
    }
   ],
   "source": [
    "# military bases\n",
    "military_bases_df = pd.read_csv(military_bases)\n",
    "\n",
    "military_bases_df.to_sql('military_bases', con, if_exists='replace', index=False)"
   ]
  },
  {
   "cell_type": "code",
   "execution_count": 31,
   "metadata": {},
   "outputs": [],
   "source": [
    "# commit to database and close connection\n",
    "con.commit()\n",
    "con.close()"
   ]
  }
 ],
 "metadata": {
  "kernelspec": {
   "display_name": "base",
   "language": "python",
   "name": "python3"
  },
  "language_info": {
   "codemirror_mode": {
    "name": "ipython",
    "version": 3
   },
   "file_extension": ".py",
   "mimetype": "text/x-python",
   "name": "python",
   "nbconvert_exporter": "python",
   "pygments_lexer": "ipython3",
   "version": "3.11.7"
  }
 },
 "nbformat": 4,
 "nbformat_minor": 2
}
