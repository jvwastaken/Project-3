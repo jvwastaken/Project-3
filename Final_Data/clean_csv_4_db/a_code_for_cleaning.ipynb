{
 "cells": [
  {
   "cell_type": "markdown",
   "metadata": {},
   "source": [
    "Cleaning US Population"
   ]
  },
  {
   "cell_type": "code",
   "execution_count": 9,
   "metadata": {},
   "outputs": [],
   "source": [
    "import pandas as pd\n",
    "\n",
    "# Load the CSV file\n",
    "file_path = '/Users/stephenloucel/Desktop/DataClass/Classwork/Project-3/Stephen/database/csv_clean_up_4_db/clean_us_population.csv'  \n",
    "df_pop = pd.read_csv(file_path)"
   ]
  },
  {
   "cell_type": "code",
   "execution_count": 10,
   "metadata": {},
   "outputs": [
    {
     "data": {
      "text/html": [
       "<div>\n",
       "<style scoped>\n",
       "    .dataframe tbody tr th:only-of-type {\n",
       "        vertical-align: middle;\n",
       "    }\n",
       "\n",
       "    .dataframe tbody tr th {\n",
       "        vertical-align: top;\n",
       "    }\n",
       "\n",
       "    .dataframe thead th {\n",
       "        text-align: right;\n",
       "    }\n",
       "</style>\n",
       "<table border=\"1\" class=\"dataframe\">\n",
       "  <thead>\n",
       "    <tr style=\"text-align: right;\">\n",
       "      <th></th>\n",
       "      <th>State</th>\n",
       "      <th>Population</th>\n",
       "    </tr>\n",
       "  </thead>\n",
       "  <tbody>\n",
       "    <tr>\n",
       "      <th>0</th>\n",
       "      <td>Alabama</td>\n",
       "      <td>5,108,468</td>\n",
       "    </tr>\n",
       "    <tr>\n",
       "      <th>1</th>\n",
       "      <td>Alaska</td>\n",
       "      <td>733,406</td>\n",
       "    </tr>\n",
       "    <tr>\n",
       "      <th>2</th>\n",
       "      <td>Arizona</td>\n",
       "      <td>7,431,344</td>\n",
       "    </tr>\n",
       "    <tr>\n",
       "      <th>3</th>\n",
       "      <td>Arkansas</td>\n",
       "      <td>3,067,732</td>\n",
       "    </tr>\n",
       "    <tr>\n",
       "      <th>4</th>\n",
       "      <td>California</td>\n",
       "      <td>38,965,193</td>\n",
       "    </tr>\n",
       "  </tbody>\n",
       "</table>\n",
       "</div>"
      ],
      "text/plain": [
       "        State  Population\n",
       "0     Alabama   5,108,468\n",
       "1      Alaska     733,406\n",
       "2     Arizona   7,431,344\n",
       "3    Arkansas   3,067,732\n",
       "4  California  38,965,193"
      ]
     },
     "execution_count": 10,
     "metadata": {},
     "output_type": "execute_result"
    }
   ],
   "source": [
    "df_guns.head()"
   ]
  },
  {
   "cell_type": "code",
   "execution_count": 18,
   "metadata": {},
   "outputs": [],
   "source": [
    "# Convert the Population column from float to int\n",
    "df_pop['Population'] = df_pop['Population'].astype('int64')\n"
   ]
  },
  {
   "cell_type": "code",
   "execution_count": 19,
   "metadata": {},
   "outputs": [
    {
     "name": "stdout",
     "output_type": "stream",
     "text": [
      "CSV file has been cleaned, Population column converted to float64, and saved to the existing file: /Users/stephenloucel/Desktop/DataClass/Classwork/Project-3/Stephen/database/csv_clean_up_4_db/clean_us_population.csv\n"
     ]
    }
   ],
   "source": [
    "# Save the cleaned dataframe to the existing CSV file\n",
    "df_pop.to_csv(file_path, index=False)\n",
    "\n",
    "print(\"CSV file has been cleaned, Population column converted to float64, and saved to the existing file:\", file_path)\n"
   ]
  },
  {
   "cell_type": "code",
   "execution_count": 20,
   "metadata": {},
   "outputs": [
    {
     "data": {
      "text/plain": [
       "State         object\n",
       "Population     int64\n",
       "dtype: object"
      ]
     },
     "execution_count": 20,
     "metadata": {},
     "output_type": "execute_result"
    }
   ],
   "source": [
    "df_pop.dtypes\n"
   ]
  },
  {
   "cell_type": "markdown",
   "metadata": {},
   "source": [
    "Cleaning Guns CSV"
   ]
  },
  {
   "cell_type": "code",
   "execution_count": 3,
   "metadata": {},
   "outputs": [],
   "source": [
    "import pandas as pd\n",
    "\n",
    "# Load the CSV file\n",
    "file_path = '/Users/stephenloucel/Desktop/DataClass/Classwork/Project-3/Final_Data/clean_csv_4_db/clean_guns.csv'  \n",
    "df_guns = pd.read_csv(file_path)"
   ]
  },
  {
   "cell_type": "code",
   "execution_count": 4,
   "metadata": {},
   "outputs": [
    {
     "data": {
      "text/plain": [
       "State                 object\n",
       "Lat                  float64\n",
       "Long_                float64\n",
       "Gun Sales in 2023      int64\n",
       "Guns Per Capita      float64\n",
       "dtype: object"
      ]
     },
     "execution_count": 4,
     "metadata": {},
     "output_type": "execute_result"
    }
   ],
   "source": [
    "df_guns.dtypes"
   ]
  },
  {
   "cell_type": "code",
   "execution_count": 5,
   "metadata": {},
   "outputs": [
    {
     "data": {
      "text/html": [
       "<div>\n",
       "<style scoped>\n",
       "    .dataframe tbody tr th:only-of-type {\n",
       "        vertical-align: middle;\n",
       "    }\n",
       "\n",
       "    .dataframe tbody tr th {\n",
       "        vertical-align: top;\n",
       "    }\n",
       "\n",
       "    .dataframe thead th {\n",
       "        text-align: right;\n",
       "    }\n",
       "</style>\n",
       "<table border=\"1\" class=\"dataframe\">\n",
       "  <thead>\n",
       "    <tr style=\"text-align: right;\">\n",
       "      <th></th>\n",
       "      <th>State</th>\n",
       "      <th>Lat</th>\n",
       "      <th>Long_</th>\n",
       "      <th>Gun Sales in 2023</th>\n",
       "      <th>Guns Per Capita</th>\n",
       "    </tr>\n",
       "  </thead>\n",
       "  <tbody>\n",
       "    <tr>\n",
       "      <th>0</th>\n",
       "      <td>Alabama</td>\n",
       "      <td>32.3182</td>\n",
       "      <td>-86.9023</td>\n",
       "      <td>487077</td>\n",
       "      <td>9.53</td>\n",
       "    </tr>\n",
       "    <tr>\n",
       "      <th>1</th>\n",
       "      <td>Alaska</td>\n",
       "      <td>61.3707</td>\n",
       "      <td>-152.4044</td>\n",
       "      <td>80341</td>\n",
       "      <td>10.95</td>\n",
       "    </tr>\n",
       "    <tr>\n",
       "      <th>2</th>\n",
       "      <td>Arizona</td>\n",
       "      <td>33.7298</td>\n",
       "      <td>-111.4312</td>\n",
       "      <td>407288</td>\n",
       "      <td>5.48</td>\n",
       "    </tr>\n",
       "    <tr>\n",
       "      <th>3</th>\n",
       "      <td>Arkansas</td>\n",
       "      <td>34.9697</td>\n",
       "      <td>-92.3731</td>\n",
       "      <td>200279</td>\n",
       "      <td>6.53</td>\n",
       "    </tr>\n",
       "    <tr>\n",
       "      <th>4</th>\n",
       "      <td>California</td>\n",
       "      <td>36.1162</td>\n",
       "      <td>-119.6816</td>\n",
       "      <td>1043421</td>\n",
       "      <td>2.68</td>\n",
       "    </tr>\n",
       "  </tbody>\n",
       "</table>\n",
       "</div>"
      ],
      "text/plain": [
       "        State      Lat     Long_  Gun Sales in 2023  Guns Per Capita\n",
       "0     Alabama  32.3182  -86.9023             487077             9.53\n",
       "1      Alaska  61.3707 -152.4044              80341            10.95\n",
       "2     Arizona  33.7298 -111.4312             407288             5.48\n",
       "3    Arkansas  34.9697  -92.3731             200279             6.53\n",
       "4  California  36.1162 -119.6816            1043421             2.68"
      ]
     },
     "execution_count": 5,
     "metadata": {},
     "output_type": "execute_result"
    }
   ],
   "source": [
    "df_guns.head(\n",
    "    \n",
    ")"
   ]
  },
  {
   "cell_type": "code",
   "execution_count": 8,
   "metadata": {},
   "outputs": [],
   "source": [
    "import pandas as pd\n",
    "\n",
    "# Load the CSV file\n",
    "df = pd.read_csv(\"clean_guns.csv\")\n",
    "\n",
    "# Rename the column\n",
    "df.rename(columns={'2023 Total Estimated Sales': 'Gun Sales in 2023'}, inplace=True)\n",
    "\n",
    "# Save the updated DataFrame back to the CSV file\n",
    "df.to_csv(\"clean_guns.csv\", index=False)"
   ]
  },
  {
   "cell_type": "code",
   "execution_count": 6,
   "metadata": {},
   "outputs": [],
   "source": [
    "import pandas as pd\n",
    "\n",
    "# Load the CSV file\n",
    "df = pd.read_csv(\"clean_guns.csv\")\n",
    "\n",
    "# Convert \"Gun Sales in 2023\" column from int to float\n",
    "df['Gun Sales in 2023'] = df['Gun Sales in 2023'].astype(float)\n",
    "\n",
    "# Save the updated DataFrame back to the CSV file\n",
    "df.to_csv(\"clean_guns.csv\", index=False)"
   ]
  },
  {
   "cell_type": "markdown",
   "metadata": {},
   "source": [
    "Military Base CSV"
   ]
  },
  {
   "cell_type": "code",
   "execution_count": 8,
   "metadata": {},
   "outputs": [],
   "source": [
    "import pandas as pd\n",
    "\n",
    "# Load the CSV file\n",
    "file_path = '/Users/stephenloucel/Desktop/DataClass/Classwork/Project-3/Final_Data/clean_csv_4_db/clean_military_bases.csv'  \n",
    "df_military = pd.read_csv(file_path)"
   ]
  },
  {
   "cell_type": "code",
   "execution_count": 20,
   "metadata": {},
   "outputs": [
    {
     "name": "stdout",
     "output_type": "stream",
     "text": [
      "CSV file cleaned and saved.\n"
     ]
    }
   ],
   "source": [
    "import pandas as pd\n",
    "\n",
    "# Load the CSV file\n",
    "file_path = '/Users/stephenloucel/Desktop/DataClass/Classwork/Project-3/Final_Data/clean_csv_4_db/clean_military_bases.csv'  \n",
    "df_military = pd.read_csv(file_path)\n",
    "\n",
    "# Standardize column names to lower case\n",
    "df_military.columns = df_military.columns.str.lower()\n",
    "\n",
    "# Change all 'object' columns to 'str', except 'state'\n",
    "for column in df_military.select_dtypes(include=['object']).columns:\n",
    "    if column != 'state':\n",
    "        df_military[column] = df_military[column].astype(str)\n",
    "\n",
    "# Save the cleaned DataFrame back to the CSV file\n",
    "df_military.to_csv(\"clean_military_bases.csv\", index=False)\n",
    "\n",
    "print(\"CSV file cleaned and saved.\")"
   ]
  },
  {
   "cell_type": "code",
   "execution_count": 25,
   "metadata": {},
   "outputs": [
    {
     "ename": "KeyError",
     "evalue": "\"['joint base'] not found in axis\"",
     "output_type": "error",
     "traceback": [
      "\u001b[0;31m---------------------------------------------------------------------------\u001b[0m",
      "\u001b[0;31mKeyError\u001b[0m                                  Traceback (most recent call last)",
      "Cell \u001b[0;32mIn[25], line 10\u001b[0m\n\u001b[1;32m      7\u001b[0m df_mil \u001b[38;5;241m=\u001b[39m pd\u001b[38;5;241m.\u001b[39mread_csv(csv_path)\n\u001b[1;32m      9\u001b[0m \u001b[38;5;66;03m# Remove the 'joint_base' column\u001b[39;00m\n\u001b[0;32m---> 10\u001b[0m df_mil\u001b[38;5;241m.\u001b[39mdrop(columns\u001b[38;5;241m=\u001b[39m[\u001b[38;5;124m'\u001b[39m\u001b[38;5;124mjoint base\u001b[39m\u001b[38;5;124m'\u001b[39m], inplace\u001b[38;5;241m=\u001b[39m\u001b[38;5;28;01mTrue\u001b[39;00m)\n\u001b[1;32m     12\u001b[0m \u001b[38;5;66;03m# Save the updated DataFrame back to the CSV file\u001b[39;00m\n\u001b[1;32m     13\u001b[0m df_mil\u001b[38;5;241m.\u001b[39mto_csv(csv_path, index\u001b[38;5;241m=\u001b[39m\u001b[38;5;28;01mFalse\u001b[39;00m)\n",
      "File \u001b[0;32m/opt/anaconda3/lib/python3.11/site-packages/pandas/core/frame.py:5344\u001b[0m, in \u001b[0;36mDataFrame.drop\u001b[0;34m(self, labels, axis, index, columns, level, inplace, errors)\u001b[0m\n\u001b[1;32m   5196\u001b[0m \u001b[38;5;28;01mdef\u001b[39;00m \u001b[38;5;21mdrop\u001b[39m(\n\u001b[1;32m   5197\u001b[0m     \u001b[38;5;28mself\u001b[39m,\n\u001b[1;32m   5198\u001b[0m     labels: IndexLabel \u001b[38;5;241m|\u001b[39m \u001b[38;5;28;01mNone\u001b[39;00m \u001b[38;5;241m=\u001b[39m \u001b[38;5;28;01mNone\u001b[39;00m,\n\u001b[0;32m   (...)\u001b[0m\n\u001b[1;32m   5205\u001b[0m     errors: IgnoreRaise \u001b[38;5;241m=\u001b[39m \u001b[38;5;124m\"\u001b[39m\u001b[38;5;124mraise\u001b[39m\u001b[38;5;124m\"\u001b[39m,\n\u001b[1;32m   5206\u001b[0m ) \u001b[38;5;241m-\u001b[39m\u001b[38;5;241m>\u001b[39m DataFrame \u001b[38;5;241m|\u001b[39m \u001b[38;5;28;01mNone\u001b[39;00m:\n\u001b[1;32m   5207\u001b[0m \u001b[38;5;250m    \u001b[39m\u001b[38;5;124;03m\"\"\"\u001b[39;00m\n\u001b[1;32m   5208\u001b[0m \u001b[38;5;124;03m    Drop specified labels from rows or columns.\u001b[39;00m\n\u001b[1;32m   5209\u001b[0m \n\u001b[0;32m   (...)\u001b[0m\n\u001b[1;32m   5342\u001b[0m \u001b[38;5;124;03m            weight  1.0     0.8\u001b[39;00m\n\u001b[1;32m   5343\u001b[0m \u001b[38;5;124;03m    \"\"\"\u001b[39;00m\n\u001b[0;32m-> 5344\u001b[0m     \u001b[38;5;28;01mreturn\u001b[39;00m \u001b[38;5;28msuper\u001b[39m()\u001b[38;5;241m.\u001b[39mdrop(\n\u001b[1;32m   5345\u001b[0m         labels\u001b[38;5;241m=\u001b[39mlabels,\n\u001b[1;32m   5346\u001b[0m         axis\u001b[38;5;241m=\u001b[39maxis,\n\u001b[1;32m   5347\u001b[0m         index\u001b[38;5;241m=\u001b[39mindex,\n\u001b[1;32m   5348\u001b[0m         columns\u001b[38;5;241m=\u001b[39mcolumns,\n\u001b[1;32m   5349\u001b[0m         level\u001b[38;5;241m=\u001b[39mlevel,\n\u001b[1;32m   5350\u001b[0m         inplace\u001b[38;5;241m=\u001b[39minplace,\n\u001b[1;32m   5351\u001b[0m         errors\u001b[38;5;241m=\u001b[39merrors,\n\u001b[1;32m   5352\u001b[0m     )\n",
      "File \u001b[0;32m/opt/anaconda3/lib/python3.11/site-packages/pandas/core/generic.py:4711\u001b[0m, in \u001b[0;36mNDFrame.drop\u001b[0;34m(self, labels, axis, index, columns, level, inplace, errors)\u001b[0m\n\u001b[1;32m   4709\u001b[0m \u001b[38;5;28;01mfor\u001b[39;00m axis, labels \u001b[38;5;129;01min\u001b[39;00m axes\u001b[38;5;241m.\u001b[39mitems():\n\u001b[1;32m   4710\u001b[0m     \u001b[38;5;28;01mif\u001b[39;00m labels \u001b[38;5;129;01mis\u001b[39;00m \u001b[38;5;129;01mnot\u001b[39;00m \u001b[38;5;28;01mNone\u001b[39;00m:\n\u001b[0;32m-> 4711\u001b[0m         obj \u001b[38;5;241m=\u001b[39m obj\u001b[38;5;241m.\u001b[39m_drop_axis(labels, axis, level\u001b[38;5;241m=\u001b[39mlevel, errors\u001b[38;5;241m=\u001b[39merrors)\n\u001b[1;32m   4713\u001b[0m \u001b[38;5;28;01mif\u001b[39;00m inplace:\n\u001b[1;32m   4714\u001b[0m     \u001b[38;5;28mself\u001b[39m\u001b[38;5;241m.\u001b[39m_update_inplace(obj)\n",
      "File \u001b[0;32m/opt/anaconda3/lib/python3.11/site-packages/pandas/core/generic.py:4753\u001b[0m, in \u001b[0;36mNDFrame._drop_axis\u001b[0;34m(self, labels, axis, level, errors, only_slice)\u001b[0m\n\u001b[1;32m   4751\u001b[0m         new_axis \u001b[38;5;241m=\u001b[39m axis\u001b[38;5;241m.\u001b[39mdrop(labels, level\u001b[38;5;241m=\u001b[39mlevel, errors\u001b[38;5;241m=\u001b[39merrors)\n\u001b[1;32m   4752\u001b[0m     \u001b[38;5;28;01melse\u001b[39;00m:\n\u001b[0;32m-> 4753\u001b[0m         new_axis \u001b[38;5;241m=\u001b[39m axis\u001b[38;5;241m.\u001b[39mdrop(labels, errors\u001b[38;5;241m=\u001b[39merrors)\n\u001b[1;32m   4754\u001b[0m     indexer \u001b[38;5;241m=\u001b[39m axis\u001b[38;5;241m.\u001b[39mget_indexer(new_axis)\n\u001b[1;32m   4756\u001b[0m \u001b[38;5;66;03m# Case for non-unique axis\u001b[39;00m\n\u001b[1;32m   4757\u001b[0m \u001b[38;5;28;01melse\u001b[39;00m:\n",
      "File \u001b[0;32m/opt/anaconda3/lib/python3.11/site-packages/pandas/core/indexes/base.py:7000\u001b[0m, in \u001b[0;36mIndex.drop\u001b[0;34m(self, labels, errors)\u001b[0m\n\u001b[1;32m   6998\u001b[0m \u001b[38;5;28;01mif\u001b[39;00m mask\u001b[38;5;241m.\u001b[39many():\n\u001b[1;32m   6999\u001b[0m     \u001b[38;5;28;01mif\u001b[39;00m errors \u001b[38;5;241m!=\u001b[39m \u001b[38;5;124m\"\u001b[39m\u001b[38;5;124mignore\u001b[39m\u001b[38;5;124m\"\u001b[39m:\n\u001b[0;32m-> 7000\u001b[0m         \u001b[38;5;28;01mraise\u001b[39;00m \u001b[38;5;167;01mKeyError\u001b[39;00m(\u001b[38;5;124mf\u001b[39m\u001b[38;5;124m\"\u001b[39m\u001b[38;5;132;01m{\u001b[39;00mlabels[mask]\u001b[38;5;241m.\u001b[39mtolist()\u001b[38;5;132;01m}\u001b[39;00m\u001b[38;5;124m not found in axis\u001b[39m\u001b[38;5;124m\"\u001b[39m)\n\u001b[1;32m   7001\u001b[0m     indexer \u001b[38;5;241m=\u001b[39m indexer[\u001b[38;5;241m~\u001b[39mmask]\n\u001b[1;32m   7002\u001b[0m \u001b[38;5;28;01mreturn\u001b[39;00m \u001b[38;5;28mself\u001b[39m\u001b[38;5;241m.\u001b[39mdelete(indexer)\n",
      "\u001b[0;31mKeyError\u001b[0m: \"['joint base'] not found in axis\""
     ]
    }
   ],
   "source": [
    "import pandas as pd\n",
    "\n",
    "# Path to your CSV file\n",
    "csv_path = \"clean_military_bases.csv\"\n",
    "\n",
    "# Load the CSV file\n",
    "df_mil = pd.read_csv(csv_path)\n",
    "\n",
    "# Remove the 'joint_base' column\n",
    "df_mil.drop(columns=['joint base'], inplace=True)\n",
    "\n",
    "# Save the updated DataFrame back to the CSV file\n",
    "df_mil.to_csv(csv_path, index=False)\n",
    "\n",
    "print(\"CSV file updated: 'joint_base' column removed.\")\n"
   ]
  },
  {
   "cell_type": "code",
   "execution_count": 26,
   "metadata": {},
   "outputs": [
    {
     "data": {
      "text/plain": [
       "country        object\n",
       "state          object\n",
       "lat           float64\n",
       "long          float64\n",
       "component      object\n",
       "site name      object\n",
       "oper stat      object\n",
       "perimeter     float64\n",
       "area          float64\n",
       "shape_leng    float64\n",
       "shape_area    float64\n",
       "dtype: object"
      ]
     },
     "execution_count": 26,
     "metadata": {},
     "output_type": "execute_result"
    }
   ],
   "source": [
    "df_mil.dtypes"
   ]
  },
  {
   "cell_type": "code",
   "execution_count": 27,
   "metadata": {},
   "outputs": [
    {
     "data": {
      "text/html": [
       "<div>\n",
       "<style scoped>\n",
       "    .dataframe tbody tr th:only-of-type {\n",
       "        vertical-align: middle;\n",
       "    }\n",
       "\n",
       "    .dataframe tbody tr th {\n",
       "        vertical-align: top;\n",
       "    }\n",
       "\n",
       "    .dataframe thead th {\n",
       "        text-align: right;\n",
       "    }\n",
       "</style>\n",
       "<table border=\"1\" class=\"dataframe\">\n",
       "  <thead>\n",
       "    <tr style=\"text-align: right;\">\n",
       "      <th></th>\n",
       "      <th>country</th>\n",
       "      <th>state</th>\n",
       "      <th>lat</th>\n",
       "      <th>long</th>\n",
       "      <th>component</th>\n",
       "      <th>site name</th>\n",
       "      <th>oper stat</th>\n",
       "      <th>perimeter</th>\n",
       "      <th>area</th>\n",
       "      <th>shape_leng</th>\n",
       "      <th>shape_area</th>\n",
       "    </tr>\n",
       "  </thead>\n",
       "  <tbody>\n",
       "    <tr>\n",
       "      <th>0</th>\n",
       "      <td>United States</td>\n",
       "      <td>Alabama</td>\n",
       "      <td>31.230999</td>\n",
       "      <td>-85.650635</td>\n",
       "      <td>Army Active</td>\n",
       "      <td>Allen Stagefield AL</td>\n",
       "      <td>Active</td>\n",
       "      <td>1.641383</td>\n",
       "      <td>0.176575</td>\n",
       "      <td>3170.633316</td>\n",
       "      <td>6.274240e+05</td>\n",
       "    </tr>\n",
       "    <tr>\n",
       "      <th>1</th>\n",
       "      <td>United States</td>\n",
       "      <td>Alabama</td>\n",
       "      <td>31.815733</td>\n",
       "      <td>-85.649799</td>\n",
       "      <td>Army Active</td>\n",
       "      <td>Louisville Stagefield AL</td>\n",
       "      <td>Active</td>\n",
       "      <td>1.723380</td>\n",
       "      <td>0.162357</td>\n",
       "      <td>3357.487241</td>\n",
       "      <td>5.840968e+05</td>\n",
       "    </tr>\n",
       "    <tr>\n",
       "      <th>2</th>\n",
       "      <td>United States</td>\n",
       "      <td>New Mexico</td>\n",
       "      <td>33.159464</td>\n",
       "      <td>-106.425696</td>\n",
       "      <td>Army Active</td>\n",
       "      <td>White Sands Missile Range NM</td>\n",
       "      <td>Active</td>\n",
       "      <td>332.133189</td>\n",
       "      <td>3548.570164</td>\n",
       "      <td>648984.100400</td>\n",
       "      <td>1.315079e+10</td>\n",
       "    </tr>\n",
       "    <tr>\n",
       "      <th>3</th>\n",
       "      <td>United States</td>\n",
       "      <td>Virginia</td>\n",
       "      <td>37.013020</td>\n",
       "      <td>-76.304376</td>\n",
       "      <td>Army Active</td>\n",
       "      <td>Fort Monroe</td>\n",
       "      <td>Inactive</td>\n",
       "      <td>10.209688</td>\n",
       "      <td>0.877233</td>\n",
       "      <td>21033.880110</td>\n",
       "      <td>3.570033e+06</td>\n",
       "    </tr>\n",
       "    <tr>\n",
       "      <th>4</th>\n",
       "      <td>United States</td>\n",
       "      <td>Hawaii</td>\n",
       "      <td>21.386628</td>\n",
       "      <td>-157.905641</td>\n",
       "      <td>MC Active</td>\n",
       "      <td>MCB Camp Smith</td>\n",
       "      <td>Active</td>\n",
       "      <td>2.931885</td>\n",
       "      <td>0.331246</td>\n",
       "      <td>5098.778436</td>\n",
       "      <td>9.944004e+05</td>\n",
       "    </tr>\n",
       "  </tbody>\n",
       "</table>\n",
       "</div>"
      ],
      "text/plain": [
       "         country       state       lat         long    component  \\\n",
       "0  United States     Alabama  31.230999  -85.650635  Army Active   \n",
       "1  United States     Alabama  31.815733  -85.649799  Army Active   \n",
       "2  United States  New Mexico  33.159464 -106.425696  Army Active   \n",
       "3  United States    Virginia  37.013020  -76.304376  Army Active   \n",
       "4  United States      Hawaii  21.386628 -157.905641    MC Active   \n",
       "\n",
       "                      site name oper stat   perimeter         area  \\\n",
       "0           Allen Stagefield AL    Active    1.641383     0.176575   \n",
       "1      Louisville Stagefield AL    Active    1.723380     0.162357   \n",
       "2  White Sands Missile Range NM    Active  332.133189  3548.570164   \n",
       "3                   Fort Monroe  Inactive   10.209688     0.877233   \n",
       "4                MCB Camp Smith    Active    2.931885     0.331246   \n",
       "\n",
       "      shape_leng    shape_area  \n",
       "0    3170.633316  6.274240e+05  \n",
       "1    3357.487241  5.840968e+05  \n",
       "2  648984.100400  1.315079e+10  \n",
       "3   21033.880110  3.570033e+06  \n",
       "4    5098.778436  9.944004e+05  "
      ]
     },
     "execution_count": 27,
     "metadata": {},
     "output_type": "execute_result"
    }
   ],
   "source": [
    "df_mil.head()"
   ]
  },
  {
   "cell_type": "code",
   "execution_count": 13,
   "metadata": {},
   "outputs": [
    {
     "name": "stdout",
     "output_type": "stream",
     "text": [
      "Column renamed and file saved successfully.\n"
     ]
    }
   ],
   "source": [
    "# Rename the column\n",
    "df_military.rename(columns={'State Terr': 'State'}, inplace=True)\n",
    "\n",
    "# Change all 'object' columns to 'str', except 'state'\n",
    "for column in df_military.select_dtypes(include=['object']).columns:\n",
    "    if column != 'state':\n",
    "        df_military[column] = df_military[column].astype(str)\n",
    "# Save the DataFrame back to the same CSV file\n",
    "df_military.to_csv(file_path, index=False)\n",
    "\n",
    "\n",
    "print(\"Column renamed and file saved successfully.\")"
   ]
  },
  {
   "cell_type": "code",
   "execution_count": 15,
   "metadata": {},
   "outputs": [
    {
     "data": {
      "text/plain": [
       "country        object\n",
       "state          object\n",
       "lat           float64\n",
       "long          float64\n",
       "component      object\n",
       "site name      object\n",
       "joint base     object\n",
       "oper stat      object\n",
       "perimeter     float64\n",
       "area          float64\n",
       "shape_leng    float64\n",
       "shape_area    float64\n",
       "dtype: object"
      ]
     },
     "execution_count": 15,
     "metadata": {},
     "output_type": "execute_result"
    }
   ],
   "source": [
    "df_military.dtypes"
   ]
  },
  {
   "cell_type": "code",
   "execution_count": null,
   "metadata": {},
   "outputs": [],
   "source": []
  },
  {
   "cell_type": "markdown",
   "metadata": {},
   "source": [
    "Covid Cases"
   ]
  },
  {
   "cell_type": "code",
   "execution_count": 1,
   "metadata": {},
   "outputs": [],
   "source": [
    "import pandas as pd"
   ]
  },
  {
   "cell_type": "code",
   "execution_count": 2,
   "metadata": {},
   "outputs": [],
   "source": [
    "df_covid = pd.read_csv('clean_covid_cases.csv')"
   ]
  },
  {
   "cell_type": "code",
   "execution_count": 4,
   "metadata": {},
   "outputs": [
    {
     "data": {
      "text/plain": [
       "State          object\n",
       "Lat           float64\n",
       "Long_         float64\n",
       "2020-04-01      int64\n",
       "2020-05-01      int64\n",
       "2020-06-01      int64\n",
       "2020-07-01      int64\n",
       "2020-08-01      int64\n",
       "2020-09-01      int64\n",
       "2020-10-01      int64\n",
       "2020-11-01      int64\n",
       "2020-12-01      int64\n",
       "2021-01-01      int64\n",
       "2021-02-01      int64\n",
       "2021-03-01      int64\n",
       "2021-04-01      int64\n",
       "2021-05-01      int64\n",
       "2021-06-01      int64\n",
       "2021-07-01      int64\n",
       "2021-08-01      int64\n",
       "2021-09-01      int64\n",
       "2021-10-01      int64\n",
       "2021-11-01      int64\n",
       "2021-12-01      int64\n",
       "2022-01-01      int64\n",
       "2022-02-01      int64\n",
       "2022-03-01      int64\n",
       "2022-04-01      int64\n",
       "2022-05-01      int64\n",
       "2022-06-01      int64\n",
       "2022-07-01      int64\n",
       "2022-08-01      int64\n",
       "2022-09-01      int64\n",
       "2022-10-01      int64\n",
       "2022-11-01      int64\n",
       "2022-12-01      int64\n",
       "2023-01-01      int64\n",
       "2023-02-01      int64\n",
       "2023-03-01      int64\n",
       "dtype: object"
      ]
     },
     "execution_count": 4,
     "metadata": {},
     "output_type": "execute_result"
    }
   ],
   "source": [
    "df_covid.dtypes"
   ]
  },
  {
   "cell_type": "code",
   "execution_count": 4,
   "metadata": {},
   "outputs": [],
   "source": [
    "import pandas as pd\n",
    "\n",
    "# Load the CSV file\n",
    "df_covid = pd.read_csv(\"clean_covid_cases.csv\")\n",
    "\n",
    "# List of columns to convert from int64 to float64\n",
    "columns_to_convert = [\n",
    "    '2020-04-01', '2020-05-01', '2020-06-01', '2020-07-01', '2020-08-01',\n",
    "    '2020-09-01', '2020-10-01', '2020-11-01', '2020-12-01', '2021-01-01',\n",
    "    '2021-02-01', '2021-03-01', '2021-04-01', '2021-05-01', '2021-06-01',\n",
    "    '2021-07-01', '2021-08-01', '2021-09-01', '2021-10-01', '2021-11-01',\n",
    "    '2021-12-01', '2022-01-01', '2022-02-01', '2022-03-01', '2022-04-01',\n",
    "    '2022-05-01', '2022-06-01', '2022-07-01', '2022-08-01', '2022-09-01',\n",
    "    '2022-10-01', '2022-11-01', '2022-12-01', '2023-01-01', '2023-02-01',\n",
    "    '2023-03-01'\n",
    "]\n",
    "\n",
    "# Convert specified columns to float64\n",
    "df_covid[columns_to_convert] = df_covid[columns_to_convert].astype('float64')\n",
    "\n",
    "# Save the updated DataFrame back to a CSV file\n",
    "df_covid.to_csv(\"clean_covid_cases.csv\", index=False)\n"
   ]
  },
  {
   "cell_type": "code",
   "execution_count": 5,
   "metadata": {},
   "outputs": [
    {
     "data": {
      "text/plain": [
       "State          object\n",
       "Lat           float64\n",
       "Long_         float64\n",
       "2020-04-01    float64\n",
       "2020-05-01    float64\n",
       "2020-06-01    float64\n",
       "2020-07-01    float64\n",
       "2020-08-01    float64\n",
       "2020-09-01    float64\n",
       "2020-10-01    float64\n",
       "2020-11-01    float64\n",
       "2020-12-01    float64\n",
       "2021-01-01    float64\n",
       "2021-02-01    float64\n",
       "2021-03-01    float64\n",
       "2021-04-01    float64\n",
       "2021-05-01    float64\n",
       "2021-06-01    float64\n",
       "2021-07-01    float64\n",
       "2021-08-01    float64\n",
       "2021-09-01    float64\n",
       "2021-10-01    float64\n",
       "2021-11-01    float64\n",
       "2021-12-01    float64\n",
       "2022-01-01    float64\n",
       "2022-02-01    float64\n",
       "2022-03-01    float64\n",
       "2022-04-01    float64\n",
       "2022-05-01    float64\n",
       "2022-06-01    float64\n",
       "2022-07-01    float64\n",
       "2022-08-01    float64\n",
       "2022-09-01    float64\n",
       "2022-10-01    float64\n",
       "2022-11-01    float64\n",
       "2022-12-01    float64\n",
       "2023-01-01    float64\n",
       "2023-02-01    float64\n",
       "2023-03-01    float64\n",
       "dtype: object"
      ]
     },
     "execution_count": 5,
     "metadata": {},
     "output_type": "execute_result"
    }
   ],
   "source": [
    "df_covid.dtypes"
   ]
  },
  {
   "cell_type": "code",
   "execution_count": 7,
   "metadata": {},
   "outputs": [],
   "source": [
    "import pandas as pd\n",
    "\n",
    "# Load the CSV file\n",
    "df = pd.read_csv(\"clean_covid_cases.csv\")\n",
    "\n",
    "# Define a mapping from the old column names to the new ones\n",
    "new_column_names = {\n",
    "    '2020-04-01': 'April_2020', '2020-05-01': 'May_2020',\n",
    "    '2020-06-01': 'June_2020', '2020-07-01': 'July_2020',\n",
    "    '2020-08-01': 'August_2020', '2020-09-01': 'September_2020',\n",
    "    '2020-10-01': 'October_2020', '2020-11-01': 'November_2020',\n",
    "    '2020-12-01': 'December_2020', '2021-01-01': 'January_2021',\n",
    "    '2021-02-01': 'February_2021', '2021-03-01': 'March_2021',\n",
    "    '2021-04-01': 'April_2021', '2021-05-01': 'May_2021',\n",
    "    '2021-06-01': 'June_2021', '2021-07-01': 'July_2021',\n",
    "    '2021-08-01': 'August_2021', '2021-09-01': 'September_2021',\n",
    "    '2021-10-01': 'October_2021', '2021-11-01': 'November_2021',\n",
    "    '2021-12-01': 'December_2021', '2022-01-01': 'January_2022',\n",
    "    '2022-02-01': 'February_2022', '2022-03-01': 'March_2022',\n",
    "    '2022-04-01': 'April_2022', '2022-05-01': 'May_2022',\n",
    "    '2022-06-01': 'June_2022', '2022-07-01': 'July_2022',\n",
    "    '2022-08-01': 'August_2022', '2022-09-01': 'September_2022',\n",
    "    '2022-10-01': 'October_2022', '2022-11-01': 'November_2022',\n",
    "    '2022-12-01': 'December_2022', '2023-01-01': 'January_2023',\n",
    "    '2023-02-01': 'February_2023', '2023-03-01': 'March_2023'\n",
    "}\n",
    "\n",
    "# Rename the columns\n",
    "df.rename(columns=new_column_names, inplace=True)\n",
    "\n",
    "# Save the updated DataFrame back to a CSV file\n",
    "df.to_csv(\"clean_covid_cases.csv\", index=False)\n"
   ]
  }
 ],
 "metadata": {
  "kernelspec": {
   "display_name": "base",
   "language": "python",
   "name": "python3"
  },
  "language_info": {
   "codemirror_mode": {
    "name": "ipython",
    "version": 3
   },
   "file_extension": ".py",
   "mimetype": "text/x-python",
   "name": "python",
   "nbconvert_exporter": "python",
   "pygments_lexer": "ipython3",
   "version": "3.11.7"
  }
 },
 "nbformat": 4,
 "nbformat_minor": 2
}
