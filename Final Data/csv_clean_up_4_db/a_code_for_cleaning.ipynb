{
 "cells": [
  {
   "cell_type": "markdown",
   "metadata": {},
   "source": [
    "Cleaning US Population"
   ]
  },
  {
   "cell_type": "code",
   "execution_count": 9,
   "metadata": {},
   "outputs": [],
   "source": [
    "import pandas as pd\n",
    "\n",
    "# Load the CSV file\n",
    "file_path = '/Users/stephenloucel/Desktop/DataClass/Classwork/Project-3/Stephen/database/csv_clean_up_4_db/clean_us_population.csv'  \n",
    "df_pop = pd.read_csv(file_path)"
   ]
  },
  {
   "cell_type": "code",
   "execution_count": 10,
   "metadata": {},
   "outputs": [
    {
     "data": {
      "text/html": [
       "<div>\n",
       "<style scoped>\n",
       "    .dataframe tbody tr th:only-of-type {\n",
       "        vertical-align: middle;\n",
       "    }\n",
       "\n",
       "    .dataframe tbody tr th {\n",
       "        vertical-align: top;\n",
       "    }\n",
       "\n",
       "    .dataframe thead th {\n",
       "        text-align: right;\n",
       "    }\n",
       "</style>\n",
       "<table border=\"1\" class=\"dataframe\">\n",
       "  <thead>\n",
       "    <tr style=\"text-align: right;\">\n",
       "      <th></th>\n",
       "      <th>State</th>\n",
       "      <th>Population</th>\n",
       "    </tr>\n",
       "  </thead>\n",
       "  <tbody>\n",
       "    <tr>\n",
       "      <th>0</th>\n",
       "      <td>Alabama</td>\n",
       "      <td>5,108,468</td>\n",
       "    </tr>\n",
       "    <tr>\n",
       "      <th>1</th>\n",
       "      <td>Alaska</td>\n",
       "      <td>733,406</td>\n",
       "    </tr>\n",
       "    <tr>\n",
       "      <th>2</th>\n",
       "      <td>Arizona</td>\n",
       "      <td>7,431,344</td>\n",
       "    </tr>\n",
       "    <tr>\n",
       "      <th>3</th>\n",
       "      <td>Arkansas</td>\n",
       "      <td>3,067,732</td>\n",
       "    </tr>\n",
       "    <tr>\n",
       "      <th>4</th>\n",
       "      <td>California</td>\n",
       "      <td>38,965,193</td>\n",
       "    </tr>\n",
       "  </tbody>\n",
       "</table>\n",
       "</div>"
      ],
      "text/plain": [
       "        State  Population\n",
       "0     Alabama   5,108,468\n",
       "1      Alaska     733,406\n",
       "2     Arizona   7,431,344\n",
       "3    Arkansas   3,067,732\n",
       "4  California  38,965,193"
      ]
     },
     "execution_count": 10,
     "metadata": {},
     "output_type": "execute_result"
    }
   ],
   "source": [
    "df_guns.head()"
   ]
  },
  {
   "cell_type": "code",
   "execution_count": 18,
   "metadata": {},
   "outputs": [],
   "source": [
    "# Convert the Population column from float to int\n",
    "df_pop['Population'] = df_pop['Population'].astype('int64')\n"
   ]
  },
  {
   "cell_type": "code",
   "execution_count": 19,
   "metadata": {},
   "outputs": [
    {
     "name": "stdout",
     "output_type": "stream",
     "text": [
      "CSV file has been cleaned, Population column converted to float64, and saved to the existing file: /Users/stephenloucel/Desktop/DataClass/Classwork/Project-3/Stephen/database/csv_clean_up_4_db/clean_us_population.csv\n"
     ]
    }
   ],
   "source": [
    "# Save the cleaned dataframe to the existing CSV file\n",
    "df_pop.to_csv(file_path, index=False)\n",
    "\n",
    "print(\"CSV file has been cleaned, Population column converted to float64, and saved to the existing file:\", file_path)\n"
   ]
  },
  {
   "cell_type": "code",
   "execution_count": 20,
   "metadata": {},
   "outputs": [
    {
     "data": {
      "text/plain": [
       "State         object\n",
       "Population     int64\n",
       "dtype: object"
      ]
     },
     "execution_count": 20,
     "metadata": {},
     "output_type": "execute_result"
    }
   ],
   "source": [
    "df_pop.dtypes\n"
   ]
  },
  {
   "cell_type": "markdown",
   "metadata": {},
   "source": [
    "Cleaning Guns CSV"
   ]
  },
  {
   "cell_type": "code",
   "execution_count": 21,
   "metadata": {},
   "outputs": [],
   "source": [
    "import pandas as pd\n",
    "\n",
    "# Load the CSV file\n",
    "file_path = '/Users/stephenloucel/Desktop/DataClass/Classwork/Project-3/Stephen/database/csv_clean_up_4_db/clean_guns.csv'  \n",
    "df_guns = pd.read_csv(file_path)"
   ]
  },
  {
   "cell_type": "code",
   "execution_count": 22,
   "metadata": {},
   "outputs": [
    {
     "data": {
      "text/plain": [
       "State                          object\n",
       "Lat                           float64\n",
       "Long_                         float64\n",
       "2023 Total Estimated Sales      int64\n",
       "Guns Per Capita               float64\n",
       "dtype: object"
      ]
     },
     "execution_count": 22,
     "metadata": {},
     "output_type": "execute_result"
    }
   ],
   "source": [
    "df_guns.dtypes"
   ]
  },
  {
   "cell_type": "code",
   "execution_count": 23,
   "metadata": {},
   "outputs": [
    {
     "data": {
      "text/html": [
       "<div>\n",
       "<style scoped>\n",
       "    .dataframe tbody tr th:only-of-type {\n",
       "        vertical-align: middle;\n",
       "    }\n",
       "\n",
       "    .dataframe tbody tr th {\n",
       "        vertical-align: top;\n",
       "    }\n",
       "\n",
       "    .dataframe thead th {\n",
       "        text-align: right;\n",
       "    }\n",
       "</style>\n",
       "<table border=\"1\" class=\"dataframe\">\n",
       "  <thead>\n",
       "    <tr style=\"text-align: right;\">\n",
       "      <th></th>\n",
       "      <th>State</th>\n",
       "      <th>Lat</th>\n",
       "      <th>Long_</th>\n",
       "      <th>2023 Total Estimated Sales</th>\n",
       "      <th>Guns Per Capita</th>\n",
       "    </tr>\n",
       "  </thead>\n",
       "  <tbody>\n",
       "    <tr>\n",
       "      <th>0</th>\n",
       "      <td>Alabama</td>\n",
       "      <td>32.3182</td>\n",
       "      <td>-86.9023</td>\n",
       "      <td>487077</td>\n",
       "      <td>9.53</td>\n",
       "    </tr>\n",
       "    <tr>\n",
       "      <th>1</th>\n",
       "      <td>Alaska</td>\n",
       "      <td>61.3707</td>\n",
       "      <td>-152.4044</td>\n",
       "      <td>80341</td>\n",
       "      <td>10.95</td>\n",
       "    </tr>\n",
       "    <tr>\n",
       "      <th>2</th>\n",
       "      <td>Arizona</td>\n",
       "      <td>33.7298</td>\n",
       "      <td>-111.4312</td>\n",
       "      <td>407288</td>\n",
       "      <td>5.48</td>\n",
       "    </tr>\n",
       "    <tr>\n",
       "      <th>3</th>\n",
       "      <td>Arkansas</td>\n",
       "      <td>34.9697</td>\n",
       "      <td>-92.3731</td>\n",
       "      <td>200279</td>\n",
       "      <td>6.53</td>\n",
       "    </tr>\n",
       "    <tr>\n",
       "      <th>4</th>\n",
       "      <td>California</td>\n",
       "      <td>36.1162</td>\n",
       "      <td>-119.6816</td>\n",
       "      <td>1043421</td>\n",
       "      <td>2.68</td>\n",
       "    </tr>\n",
       "  </tbody>\n",
       "</table>\n",
       "</div>"
      ],
      "text/plain": [
       "        State      Lat     Long_  2023 Total Estimated Sales  Guns Per Capita\n",
       "0     Alabama  32.3182  -86.9023                      487077             9.53\n",
       "1      Alaska  61.3707 -152.4044                       80341            10.95\n",
       "2     Arizona  33.7298 -111.4312                      407288             5.48\n",
       "3    Arkansas  34.9697  -92.3731                      200279             6.53\n",
       "4  California  36.1162 -119.6816                     1043421             2.68"
      ]
     },
     "execution_count": 23,
     "metadata": {},
     "output_type": "execute_result"
    }
   ],
   "source": [
    "df_guns.head(\n",
    "    \n",
    ")"
   ]
  },
  {
   "cell_type": "markdown",
   "metadata": {},
   "source": [
    "Military Base CSV"
   ]
  },
  {
   "cell_type": "code",
   "execution_count": 3,
   "metadata": {},
   "outputs": [],
   "source": [
    "import pandas as pd\n",
    "\n",
    "# Load the CSV file\n",
    "file_path = '/Users/stephenloucel/Desktop/DataClass/Classwork/Project-3/Final Data/database/csv_clean_up_4_db/clean_military_bases.csv'  \n",
    "df_military = pd.read_csv(file_path)"
   ]
  },
  {
   "cell_type": "code",
   "execution_count": 4,
   "metadata": {},
   "outputs": [
    {
     "data": {
      "text/html": [
       "<div>\n",
       "<style scoped>\n",
       "    .dataframe tbody tr th:only-of-type {\n",
       "        vertical-align: middle;\n",
       "    }\n",
       "\n",
       "    .dataframe tbody tr th {\n",
       "        vertical-align: top;\n",
       "    }\n",
       "\n",
       "    .dataframe thead th {\n",
       "        text-align: right;\n",
       "    }\n",
       "</style>\n",
       "<table border=\"1\" class=\"dataframe\">\n",
       "  <thead>\n",
       "    <tr style=\"text-align: right;\">\n",
       "      <th></th>\n",
       "      <th>COUNTRY</th>\n",
       "      <th>State Terr</th>\n",
       "      <th>Lat</th>\n",
       "      <th>Long</th>\n",
       "      <th>COMPONENT</th>\n",
       "      <th>Site Name</th>\n",
       "      <th>Joint Base</th>\n",
       "      <th>Oper Stat</th>\n",
       "      <th>OBJECTID_1</th>\n",
       "      <th>OBJECTID</th>\n",
       "      <th>PERIMETER</th>\n",
       "      <th>AREA</th>\n",
       "      <th>Shape_Leng</th>\n",
       "      <th>Shape_Area</th>\n",
       "    </tr>\n",
       "  </thead>\n",
       "  <tbody>\n",
       "    <tr>\n",
       "      <th>0</th>\n",
       "      <td>United States</td>\n",
       "      <td>Alabama</td>\n",
       "      <td>31.230999</td>\n",
       "      <td>-85.650635</td>\n",
       "      <td>Army Active</td>\n",
       "      <td>Allen Stagefield AL</td>\n",
       "      <td>NaN</td>\n",
       "      <td>Active</td>\n",
       "      <td>26</td>\n",
       "      <td>65</td>\n",
       "      <td>1.641383</td>\n",
       "      <td>0.176575</td>\n",
       "      <td>3170.633316</td>\n",
       "      <td>6.274240e+05</td>\n",
       "    </tr>\n",
       "    <tr>\n",
       "      <th>1</th>\n",
       "      <td>United States</td>\n",
       "      <td>Alabama</td>\n",
       "      <td>31.815733</td>\n",
       "      <td>-85.649799</td>\n",
       "      <td>Army Active</td>\n",
       "      <td>Louisville Stagefield AL</td>\n",
       "      <td>NaN</td>\n",
       "      <td>Active</td>\n",
       "      <td>33</td>\n",
       "      <td>73</td>\n",
       "      <td>1.723380</td>\n",
       "      <td>0.162357</td>\n",
       "      <td>3357.487241</td>\n",
       "      <td>5.840968e+05</td>\n",
       "    </tr>\n",
       "    <tr>\n",
       "      <th>2</th>\n",
       "      <td>United States</td>\n",
       "      <td>New Mexico</td>\n",
       "      <td>33.159464</td>\n",
       "      <td>-106.425696</td>\n",
       "      <td>Army Active</td>\n",
       "      <td>White Sands Missile Range NM</td>\n",
       "      <td>NaN</td>\n",
       "      <td>Active</td>\n",
       "      <td>66</td>\n",
       "      <td>261</td>\n",
       "      <td>332.133189</td>\n",
       "      <td>3548.570164</td>\n",
       "      <td>648984.100400</td>\n",
       "      <td>1.315079e+10</td>\n",
       "    </tr>\n",
       "    <tr>\n",
       "      <th>3</th>\n",
       "      <td>United States</td>\n",
       "      <td>Virginia</td>\n",
       "      <td>37.013020</td>\n",
       "      <td>-76.304376</td>\n",
       "      <td>Army Active</td>\n",
       "      <td>Fort Monroe</td>\n",
       "      <td>NaN</td>\n",
       "      <td>Inactive</td>\n",
       "      <td>114</td>\n",
       "      <td>899</td>\n",
       "      <td>10.209688</td>\n",
       "      <td>0.877233</td>\n",
       "      <td>21033.880110</td>\n",
       "      <td>3.570033e+06</td>\n",
       "    </tr>\n",
       "    <tr>\n",
       "      <th>4</th>\n",
       "      <td>United States</td>\n",
       "      <td>Hawaii</td>\n",
       "      <td>21.386628</td>\n",
       "      <td>-157.905641</td>\n",
       "      <td>MC Active</td>\n",
       "      <td>MCB Camp Smith</td>\n",
       "      <td>NaN</td>\n",
       "      <td>Active</td>\n",
       "      <td>161</td>\n",
       "      <td>1237</td>\n",
       "      <td>2.931885</td>\n",
       "      <td>0.331246</td>\n",
       "      <td>5098.778436</td>\n",
       "      <td>9.944004e+05</td>\n",
       "    </tr>\n",
       "  </tbody>\n",
       "</table>\n",
       "</div>"
      ],
      "text/plain": [
       "         COUNTRY  State Terr       Lat         Long    COMPONENT  \\\n",
       "0  United States     Alabama  31.230999  -85.650635  Army Active   \n",
       "1  United States     Alabama  31.815733  -85.649799  Army Active   \n",
       "2  United States  New Mexico  33.159464 -106.425696  Army Active   \n",
       "3  United States    Virginia  37.013020  -76.304376  Army Active   \n",
       "4  United States      Hawaii  21.386628 -157.905641    MC Active   \n",
       "\n",
       "                      Site Name Joint Base Oper Stat  OBJECTID_1  OBJECTID  \\\n",
       "0           Allen Stagefield AL        NaN    Active          26        65   \n",
       "1      Louisville Stagefield AL        NaN    Active          33        73   \n",
       "2  White Sands Missile Range NM        NaN    Active          66       261   \n",
       "3                   Fort Monroe        NaN  Inactive         114       899   \n",
       "4                MCB Camp Smith        NaN    Active         161      1237   \n",
       "\n",
       "    PERIMETER         AREA     Shape_Leng    Shape_Area  \n",
       "0    1.641383     0.176575    3170.633316  6.274240e+05  \n",
       "1    1.723380     0.162357    3357.487241  5.840968e+05  \n",
       "2  332.133189  3548.570164  648984.100400  1.315079e+10  \n",
       "3   10.209688     0.877233   21033.880110  3.570033e+06  \n",
       "4    2.931885     0.331246    5098.778436  9.944004e+05  "
      ]
     },
     "execution_count": 4,
     "metadata": {},
     "output_type": "execute_result"
    }
   ],
   "source": [
    "df_military.head()"
   ]
  },
  {
   "cell_type": "code",
   "execution_count": 5,
   "metadata": {},
   "outputs": [
    {
     "name": "stdout",
     "output_type": "stream",
     "text": [
      "Column renamed and file saved successfully.\n"
     ]
    }
   ],
   "source": [
    "# Rename the column\n",
    "df_military.rename(columns={'State Terr': 'State'}, inplace=True)\n",
    "\n",
    "# Save the DataFrame back to the same CSV file\n",
    "df_military.to_csv(file_path, index=False)\n",
    "\n",
    "print(\"Column renamed and file saved successfully.\")"
   ]
  }
 ],
 "metadata": {
  "kernelspec": {
   "display_name": "base",
   "language": "python",
   "name": "python3"
  },
  "language_info": {
   "codemirror_mode": {
    "name": "ipython",
    "version": 3
   },
   "file_extension": ".py",
   "mimetype": "text/x-python",
   "name": "python",
   "nbconvert_exporter": "python",
   "pygments_lexer": "ipython3",
   "version": "3.11.7"
  }
 },
 "nbformat": 4,
 "nbformat_minor": 2
}
